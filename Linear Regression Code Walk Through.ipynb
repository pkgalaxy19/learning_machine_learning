{
 "cells": [
  {
   "cell_type": "markdown",
   "id": "cacd8c2f",
   "metadata": {},
   "source": [
    "# Linear Regression - From Scratch"
   ]
  },
  {
   "cell_type": "code",
   "execution_count": 1,
   "id": "65f2bfa2",
   "metadata": {},
   "outputs": [
    {
     "name": "stderr",
     "output_type": "stream",
     "text": [
      "C:\\Users\\ASUS\\Anaconda3\\lib\\site-packages\\scipy\\__init__.py:146: UserWarning: A NumPy version >=1.16.5 and <1.23.0 is required for this version of SciPy (detected version 1.26.4\n",
      "  warnings.warn(f\"A NumPy version >={np_minversion} and <{np_maxversion}\"\n"
     ]
    }
   ],
   "source": [
    "import matplotlib.pyplot as plt\n",
    "import numpy as np\n",
    "from sklearn.linear_model import LinearRegression"
   ]
  },
  {
   "cell_type": "code",
   "execution_count": 3,
   "id": "0965422a",
   "metadata": {},
   "outputs": [
    {
     "name": "stdout",
     "output_type": "stream",
     "text": [
      "Requirement already satisfied: numpy in c:\\users\\asus\\anaconda3\\lib\\site-packages (2.0.2)\n"
     ]
    }
   ],
   "source": [
    "!pip install --upgrade numpy"
   ]
  },
  {
   "cell_type": "markdown",
   "id": "1238caff",
   "metadata": {},
   "source": [
    "# Create Data"
   ]
  },
  {
   "cell_type": "code",
   "execution_count": 4,
   "id": "31b8d6c5",
   "metadata": {},
   "outputs": [],
   "source": [
    "X = [1,2,3,4]\n",
    "Y = [2,4,6,8]"
   ]
  },
  {
   "cell_type": "code",
   "execution_count": 5,
   "id": "527cf5e8",
   "metadata": {},
   "outputs": [
    {
     "data": {
      "text/plain": [
       "<matplotlib.collections.PathCollection at 0x19a9f6cd2b0>"
      ]
     },
     "execution_count": 5,
     "metadata": {},
     "output_type": "execute_result"
    },
    {
     "data": {
      "image/png": "[encoded data removed]",
      "text/plain": [
       "<Figure size 432x288 with 1 Axes>"
      ]
     },
     "metadata": {
      "needs_background": "light"
     },
     "output_type": "display_data"
    }
   ],
   "source": [
    "plt.scatter(X,Y)"
   ]
  },
  {
   "cell_type": "markdown",
   "id": "00b0893a",
   "metadata": {},
   "source": [
    "# Inintialize hyper parameters"
   ]
  },
  {
   "cell_type": "code",
   "execution_count": 6,
   "id": "5e15e0cb",
   "metadata": {},
   "outputs": [],
   "source": [
    "#notice small alpha value\n",
    "alpha = 0.0001\n",
    "iters = 600\n",
    "\n",
    "# theta is a row vector\n",
    "theta = np.array([[3,3,3,3]])"
   ]
  },
  {
   "cell_type": "markdown",
   "id": "fd67b78b",
   "metadata": {},
   "source": [
    "# Define Cost Function"
   ]
  },
  {
   "cell_type": "code",
   "execution_count": 7,
   "id": "76654bff",
   "metadata": {},
   "outputs": [],
   "source": [
    "def computeCost(X,y,theta):\n",
    "    inner = np.power(((X @ theta.T) - y) , 2) # @ means matrix multiplication of arrays. If we want to use * from multiplication\n",
    "    return np.sum(inner)/(2 * len(X))"
   ]
  },
  {
   "cell_type": "code",
   "execution_count": 8,
   "id": "426080f1",
   "metadata": {},
   "outputs": [
    {
     "data": {
      "text/plain": [
       "315.0"
      ]
     },
     "execution_count": 8,
     "metadata": {},
     "output_type": "execute_result"
    }
   ],
   "source": [
    "computeCost(X,Y,theta)"
   ]
  },
  {
   "cell_type": "markdown",
   "id": "1c2e1c3c",
   "metadata": {},
   "source": [
    "# Define Gradient Descent"
   ]
  },
  {
   "cell_type": "code",
   "execution_count": 14,
   "id": "b461af51",
   "metadata": {},
   "outputs": [],
   "source": [
    "def gradientDescent(X,Y,theta,alpha,iters):\n",
    "    for i in range(iters):\n",
    "        cost = computeCost(X,Y,theta)\n",
    "        theta = theta - (alpha/len(X)) * np.sum((X @ theta.T - Y), axis=0)\n",
    "        \n",
    "        if i % 50 == 0:  # just look at cost every tem loops for debugging\n",
    "            print(cost)\n",
    "            print(theta)\n",
    "            print((alpha/len(X)) * np.sum((X @ theta.T - Y), axis = 0))\n",
    "            \n",
    "    return (theta, cost)"
   ]
  },
  {
   "cell_type": "markdown",
   "id": "e1de8394",
   "metadata": {},
   "source": [
    "# Run the Algorithm\n"
   ]
  },
  {
   "cell_type": "code",
   "execution_count": 15,
   "id": "c34bec38",
   "metadata": {},
   "outputs": [
    {
     "name": "stdout",
     "output_type": "stream",
     "text": [
      "315.0\n",
      "[[2.9975 2.9975 2.9975 2.9975]]\n",
      "0.0024975\n",
      "285.247545973034\n",
      "[[2.87563606 2.87563606 2.87563606 2.87563606]]\n",
      "0.002375636056422086\n",
      "258.32775921207366\n",
      "[[2.75971839 2.75971839 2.75971839 2.75971839]]\n",
      "0.0022597183874164886\n",
      "233.97094754878103\n",
      "[[2.64945685 2.64945685 2.64945685 2.64945685]]\n",
      "0.0021494568482508833\n",
      "211.93309562710638\n",
      "[[2.54457545 2.54457545 2.54457545 2.54457545]]\n",
      "0.002044575451622893\n",
      "191.9934202691202\n",
      "[[2.44481168 2.44481168 2.44481168 2.44481168]]\n",
      "0.0019448116768571823\n",
      "173.95215858921776\n",
      "[[2.34991581 2.34991581 2.34991581 2.34991581]]\n",
      "0.0018499158128098586\n",
      "157.6285666972186\n",
      "[[2.25965033 2.25965033 2.25965033 2.25965033]]\n",
      "0.001759650332835424\n",
      "142.85910894064855\n",
      "[[2.1737893 2.1737893 2.1737893 2.1737893]]\n",
      "0.0016737893002518342\n",
      "129.49581954537643\n",
      "[[2.0921178 2.0921178 2.0921178 2.0921178]]\n",
      "0.0015921178028155156\n",
      "117.40482024092643\n",
      "[[2.01443141 2.01443141 2.01443141 2.01443141]]\n",
      "0.0015144314147908105\n",
      "106.46497901950252\n",
      "[[1.94053569 1.94053569 1.94053569 1.94053569]]\n",
      "0.0014405356852674111\n",
      "[[1.87161727 1.87161727 1.87161727 1.87161727]] 96.7551125616982\n"
     ]
    }
   ],
   "source": [
    "#notice small alpha value\n",
    "alpha = 0.0001\n",
    "iters = 600\n",
    "\n",
    "# theta is a row vector\n",
    "theta = np.array([[3,3,3,3]])\n",
    "g, cost = gradientDescent(X,Y,theta,alpha,iters)\n",
    "print(g,cost)"
   ]
  },
  {
   "cell_type": "code",
   "execution_count": 16,
   "id": "27039002",
   "metadata": {},
   "outputs": [
    {
     "data": {
      "text/plain": [
       "array([[1.87161727, 1.87161727, 1.87161727, 1.87161727]])"
      ]
     },
     "execution_count": 16,
     "metadata": {},
     "output_type": "execute_result"
    }
   ],
   "source": [
    "g"
   ]
  },
  {
   "cell_type": "code",
   "execution_count": 20,
   "id": "9b209405",
   "metadata": {},
   "outputs": [
    {
     "name": "stderr",
     "output_type": "stream",
     "text": [
      "No artists with labels found to put in legend.  Note that artists whose label start with an underscore are ignored when legend() is called with no argument.\n"
     ]
    },
    {
     "data": {
      "text/plain": [
       "<matplotlib.legend.Legend at 0x19aa04a7d30>"
      ]
     },
     "execution_count": 20,
     "metadata": {},
     "output_type": "execute_result"
    },
    {
     "data": {
      "image/png": "[encoded data removed]",
      "text/plain": [
       "<Figure size 432x288 with 1 Axes>"
      ]
     },
     "metadata": {
      "needs_background": "light"
     },
     "output_type": "display_data"
    }
   ],
   "source": [
    "plt.scatter(X,Y)\n",
    "axes = plt.gca()\n",
    "x_vals = np.array(axes.get_xlim())\n",
    "y_vals = g[0][0] * x_vals # the line equation\n",
    "plt.plot(x_vals,y_vals,'--')\n",
    "plt.legend()"
   ]
  },
  {
   "cell_type": "markdown",
   "id": "9156d233",
   "metadata": {},
   "source": [
    "# Linear Regression - Using SK Learn"
   ]
  },
  {
   "cell_type": "code",
   "execution_count": 24,
   "id": "7a201a7c",
   "metadata": {},
   "outputs": [
    {
     "name": "stdout",
     "output_type": "stream",
     "text": [
      "    X   Y\n",
      "0   1   2\n",
      "1   2   4\n",
      "2   3   6\n",
      "3   4   8\n",
      "4   5  10\n",
      "5   6  12\n",
      "6   7  14\n",
      "7   8  16\n",
      "8   9  18\n",
      "9  10  20\n",
      "    X\n",
      "0   1\n",
      "1   2\n",
      "2   3\n",
      "3   4\n",
      "4   5\n",
      "5   6\n",
      "6   7\n",
      "7   8\n",
      "8   9\n",
      "9  10\n",
      "0     2\n",
      "1     4\n",
      "2     6\n",
      "3     8\n",
      "4    10\n",
      "5    12\n",
      "6    14\n",
      "7    16\n",
      "8    18\n",
      "9    20\n",
      "Name: Y, dtype: int64\n"
     ]
    }
   ],
   "source": [
    "#let mock up the data\n",
    "import pandas as pd\n",
    "\n",
    "score = pd.DataFrame({'X':[1,2,3,4,5,6,7,8,9,10], 'Y':[2,4,6,8,10,12,14,16,18,20]})\n",
    "print(score)\n",
    "\n",
    "y = score.pop('Y')\n",
    "x = score\n",
    "\n",
    "print(x)\n",
    "print(y)"
   ]
  },
  {
   "cell_type": "code",
   "execution_count": 25,
   "id": "0f88f2d4",
   "metadata": {},
   "outputs": [],
   "source": [
    "# Lets import the SK - Learn Library and import the model"
   ]
  },
  {
   "cell_type": "code",
   "execution_count": 26,
   "id": "78a35eb2",
   "metadata": {},
   "outputs": [],
   "source": [
    "from sklearn.linear_model import LinearRegression\n",
    "mymodel = LinearRegression()"
   ]
  },
  {
   "cell_type": "code",
   "execution_count": 27,
   "id": "4f66bf94",
   "metadata": {},
   "outputs": [
    {
     "data": {
      "text/plain": [
       "LinearRegression()"
      ]
     },
     "execution_count": 27,
     "metadata": {},
     "output_type": "execute_result"
    }
   ],
   "source": [
    "# Fit the model\n",
    "mymodel.fit(x,y)"
   ]
  },
  {
   "cell_type": "code",
   "execution_count": 29,
   "id": "1c912006",
   "metadata": {},
   "outputs": [
    {
     "data": {
      "text/plain": [
       "array([2.])"
      ]
     },
     "execution_count": 29,
     "metadata": {},
     "output_type": "execute_result"
    }
   ],
   "source": [
    "# finding the coefficient\n",
    "mymodel.coef_"
   ]
  },
  {
   "cell_type": "code",
   "execution_count": 30,
   "id": "2f4f40ef",
   "metadata": {},
   "outputs": [
    {
     "name": "stderr",
     "output_type": "stream",
     "text": [
      "C:\\Users\\ASUS\\Anaconda3\\lib\\site-packages\\sklearn\\base.py:450: UserWarning: X does not have valid feature names, but LinearRegression was fitted with feature names\n",
      "  warnings.warn(\n"
     ]
    },
    {
     "data": {
      "text/plain": [
       "array([12.])"
      ]
     },
     "execution_count": 30,
     "metadata": {},
     "output_type": "execute_result"
    }
   ],
   "source": [
    "#predicting the model\n",
    "mymodel.predict(np.array([[6]]))"
   ]
  },
  {
   "cell_type": "code",
   "execution_count": null,
   "id": "e94a3064",
   "metadata": {},
   "outputs": [],
   "source": []
  }
 ],
 "metadata": {
  "kernelspec": {
   "display_name": "Python 3 (ipykernel)",
   "language": "python",
   "name": "python3"
  },
  "language_info": {
   "codemirror_mode": {
    "name": "ipython",
    "version": 3
   },
   "file_extension": ".py",
   "mimetype": "text/x-python",
   "name": "python",
   "nbconvert_exporter": "python",
   "pygments_lexer": "ipython3",
   "version": "3.9.12"
  }
 },
 "nbformat": 4,
 "nbformat_minor": 5
}
